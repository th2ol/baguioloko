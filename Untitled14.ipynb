{
  "nbformat": 4,
  "nbformat_minor": 0,
  "metadata": {
    "colab": {
      "provenance": [],
      "authorship_tag": "ABX9TyOt443qNnK1MQC7z/n5FZZd",
      "include_colab_link": true
    },
    "kernelspec": {
      "name": "python3",
      "display_name": "Python 3"
    },
    "language_info": {
      "name": "python"
    }
  },
  "cells": [
    {
      "cell_type": "markdown",
      "metadata": {
        "id": "view-in-github",
        "colab_type": "text"
      },
      "source": [
        "<a href=\"https://colab.research.google.com/github/th2ol/baguioloko/blob/main/Untitled14.ipynb\" target=\"_parent\"><img src=\"https://colab.research.google.com/assets/colab-badge.svg\" alt=\"Open In Colab\"/></a>"
      ]
    },
    {
      "cell_type": "code",
      "execution_count": 51,
      "metadata": {
        "colab": {
          "base_uri": "https://localhost:8080/"
        },
        "id": "StMnRN_nITGP",
        "outputId": "c4a74cd6-07c5-44f4-831e-f3290217c93e"
      },
      "outputs": [
        {
          "output_type": "stream",
          "name": "stdout",
          "text": [
            "Qual é a operação?%\n",
            "valor a:50\n",
            "valor b:9\n",
            "4.5\n"
          ]
        }
      ],
      "source": [
        "\n",
        "o = input(\"Qual é a operação?\")\n",
        "\n",
        "a = float(input(\"valor a:\"))\n",
        "b = float(input(\"valor b:\"))\n",
        "\n",
        "if o == \"+\":\n",
        " print(a+b)\n",
        "elif o == \"-\":\n",
        " print(a-b)\n",
        "elif o == \"x\":\n",
        " print(a*b)\n",
        "elif o == \"/\":\n",
        " if b == 0:\n",
        "  print(\"indeterminado\")\n",
        " else:\n",
        "  print(a/b)\n",
        "elif o == \"%\":\n",
        " print((a/100)*b)\n",
        "elif: o == \"*\":\n",
        "  print(a**b)\n",
        "\n",
        "else:\n",
        "  print(\"erro de sinal\")\n"
      ]
    }
  ]
}