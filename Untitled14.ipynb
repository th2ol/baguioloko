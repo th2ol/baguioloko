{
  "nbformat": 4,
  "nbformat_minor": 0,
  "metadata": {
    "colab": {
      "provenance": [],
      "authorship_tag": "ABX9TyPMX+cA8AxERxW1ARVkJNd/",
      "include_colab_link": true
    },
    "kernelspec": {
      "name": "python3",
      "display_name": "Python 3"
    },
    "language_info": {
      "name": "python"
    }
  },
  "cells": [
    {
      "cell_type": "markdown",
      "metadata": {
        "id": "view-in-github",
        "colab_type": "text"
      },
      "source": [
        "<a href=\"https://colab.research.google.com/github/th2ol/baguioloko/blob/main/Untitled14.ipynb\" target=\"_parent\"><img src=\"https://colab.research.google.com/assets/colab-badge.svg\" alt=\"Open In Colab\"/></a>"
      ]
    },
    {
      "cell_type": "code",
      "execution_count": 49,
      "metadata": {
        "colab": {
          "base_uri": "https://localhost:8080/"
        },
        "id": "StMnRN_nITGP",
        "outputId": "f3d7ed9a-e621-4724-f2c3-528fe6137563"
      },
      "outputs": [
        {
          "output_type": "stream",
          "name": "stdout",
          "text": [
            "Qual é a operação?+\n",
            "valor a:4\n",
            "valor b:5\n",
            "9.0\n"
          ]
        }
      ],
      "source": [
        "\n",
        "o = input(\"Qual é a operação?\")\n",
        "\n",
        "a = float(input(\"valor a:\"))\n",
        "b = float(input(\"valor b:\"))\n",
        "\n",
        "if o == \"+\":\n",
        " print(a+b)\n",
        "elif o == \"-\":\n",
        " print(a-b)\n",
        "elif o == \"x\":\n",
        " print(a*b)\n",
        "elif o == \"/\":\n",
        " if b == 0:\n",
        "  print(\"n\")\n",
        " else:\n",
        "  print(a/b)\n",
        "else:\n",
        "  print(\"erro de sinal\")\n"
      ]
    }
  ]
}