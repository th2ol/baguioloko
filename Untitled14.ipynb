{
  "nbformat": 4,
  "nbformat_minor": 0,
  "metadata": {
    "colab": {
      "provenance": [],
      "authorship_tag": "ABX9TyNcIgZSyVLmDte3rvUCBecT",
      "include_colab_link": true
    },
    "kernelspec": {
      "name": "python3",
      "display_name": "Python 3"
    },
    "language_info": {
      "name": "python"
    }
  },
  "cells": [
    {
      "cell_type": "markdown",
      "metadata": {
        "id": "view-in-github",
        "colab_type": "text"
      },
      "source": [
        "<a href=\"https://colab.research.google.com/github/th2ol/baguioloko/blob/main/Untitled14.ipynb\" target=\"_parent\"><img src=\"https://colab.research.google.com/assets/colab-badge.svg\" alt=\"Open In Colab\"/></a>"
      ]
    },
    {
      "cell_type": "code",
      "execution_count": 58,
      "metadata": {
        "colab": {
          "base_uri": "https://localhost:8080/"
        },
        "id": "StMnRN_nITGP",
        "outputId": "793f314d-b628-42af-e3e0-05e509e458b1"
      },
      "outputs": [
        {
          "output_type": "stream",
          "name": "stdout",
          "text": [
            "valor a:3\n",
            "Qual é a operação?r\n",
            "valor b:8\n",
            "2.0\n"
          ]
        }
      ],
      "source": [
        "\n",
        "o = input(\"Qual é a operação? \")\n",
        "a = float(input(\"valor a :\"))\n",
        "b = float(input(\"valor b :\"))\n",
        "\n",
        "if o == \"+\":\n",
        " print(a+b)\n",
        "elif o == \"-\":\n",
        " print(a-b)\n",
        "elif o == \"x\":\n",
        " print(a*b)\n",
        "elif o == \"/\":\n",
        " if b == 0:\n",
        "  print(\"indeterminado\")\n",
        " else:\n",
        "  print(a/b)\n",
        "elif o == \"%\":\n",
        " print((a/100)*b)\n",
        "elif o == \"*\":\n",
        "  print(a**b)\n",
        "elif o == \"r\":\n",
        "  print(b**(1/a))\n",
        "\n",
        "else:\n",
        "  print(\"erro de sinal\")\n"
      ]
    }
  ]
}